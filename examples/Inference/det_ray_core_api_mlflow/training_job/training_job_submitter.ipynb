{
 "cells": [
  {
   "cell_type": "code",
   "execution_count": 5,
   "id": "06557bcc-b709-4faf-b5f3-4b2176fb5fa6",
   "metadata": {},
   "outputs": [
    {
     "name": "stdout",
     "output_type": "stream",
     "text": [
      "Preparing files to send to master... 16.3KB and 9 files\n",
      "Created experiment 280\n"
     ]
    }
   ],
   "source": [
    "!det e create train_3.yaml ."
   ]
  },
  {
   "cell_type": "code",
   "execution_count": null,
   "id": "30dbd3a0-3bbe-4b64-b0a3-d503ca262d05",
   "metadata": {},
   "outputs": [],
   "source": []
  }
 ],
 "metadata": {
  "kernelspec": {
   "display_name": "Python 3 (ipykernel)",
   "language": "python",
   "name": "python3"
  },
  "language_info": {
   "codemirror_mode": {
    "name": "ipython",
    "version": 3
   },
   "file_extension": ".py",
   "mimetype": "text/x-python",
   "name": "python",
   "nbconvert_exporter": "python",
   "pygments_lexer": "ipython3",
   "version": "3.8.16"
  }
 },
 "nbformat": 4,
 "nbformat_minor": 5
}
