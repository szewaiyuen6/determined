{
 "cells": [
  {
   "cell_type": "code",
   "execution_count": 36,
   "id": "198fee63-d66d-4dfd-ae50-e4761b4ef3ca",
   "metadata": {},
   "outputs": [
    {
     "name": "stdout",
     "output_type": "stream",
     "text": [
      "Preparing files to send to master... 20.3KB and 11 files\n",
      "Created experiment 282\n"
     ]
    }
   ],
   "source": [
    "!det e create det-expconfig.yaml ."
   ]
  },
  {
   "cell_type": "code",
   "execution_count": null,
   "id": "1e8d4a98-c16d-47d1-8222-6eac10a93204",
   "metadata": {},
   "outputs": [],
   "source": []
  }
 ],
 "metadata": {
  "kernelspec": {
   "display_name": "Python 3 (ipykernel)",
   "language": "python",
   "name": "python3"
  },
  "language_info": {
   "codemirror_mode": {
    "name": "ipython",
    "version": 3
   },
   "file_extension": ".py",
   "mimetype": "text/x-python",
   "name": "python",
   "nbconvert_exporter": "python",
   "pygments_lexer": "ipython3",
   "version": "3.8.16"
  }
 },
 "nbformat": 4,
 "nbformat_minor": 5
}
