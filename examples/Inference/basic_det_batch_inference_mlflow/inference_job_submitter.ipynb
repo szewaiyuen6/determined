{
 "cells": [
  {
   "cell_type": "code",
   "execution_count": 5,
   "id": "a8e0a82a-8c8d-45cd-ab83-beb0b0ea1d4e",
   "metadata": {},
   "outputs": [
    {
     "name": "stdout",
     "output_type": "stream",
     "text": [
      "Preparing files to send to master... 15.4KB and 9 files\n",
      "Created experiment 296\n"
     ]
    }
   ],
   "source": [
    "!det e create inference_config.yaml ."
   ]
  },
  {
   "cell_type": "code",
   "execution_count": null,
   "id": "bb0acc01-2d6d-4df4-9707-dbce94db0b7a",
   "metadata": {},
   "outputs": [],
   "source": []
  }
 ],
 "metadata": {
  "kernelspec": {
   "display_name": "Python 3 (ipykernel)",
   "language": "python",
   "name": "python3"
  },
  "language_info": {
   "codemirror_mode": {
    "name": "ipython",
    "version": 3
   },
   "file_extension": ".py",
   "mimetype": "text/x-python",
   "name": "python",
   "nbconvert_exporter": "python",
   "pygments_lexer": "ipython3",
   "version": "3.8.16"
  }
 },
 "nbformat": 4,
 "nbformat_minor": 5
}
