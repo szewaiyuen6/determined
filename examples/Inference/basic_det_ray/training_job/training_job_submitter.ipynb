{
 "cells": [
  {
   "cell_type": "code",
   "execution_count": 1,
   "id": "e9c68afb-2c31-4864-b0da-224809755913",
   "metadata": {},
   "outputs": [
    {
     "name": "stdout",
     "output_type": "stream",
     "text": [
      "Preparing files to send to master... 14.4KB and 7 files\n",
      "Created experiment 4\n"
     ]
    }
   ],
   "source": [
    "# Submits training job to train model for inference"
   ]
  },
  {
   "cell_type": "code",
   "execution_count": 1,
   "id": "37261ce4-a919-44b2-8557-d7ef0c7f6984",
   "metadata": {},
   "outputs": [
    {
     "name": "stdout",
     "output_type": "stream",
     "text": [
      "Preparing files to send to master... 15.2KB and 7 files\n",
      "Created experiment 6\n"
     ]
    }
   ],
   "source": [
    "!det e create train_3.yaml ."
   ]
  },
  {
   "cell_type": "code",
   "execution_count": null,
   "id": "9017a325-ec6d-4305-b187-08742d9f3928",
   "metadata": {},
   "outputs": [],
   "source": []
  }
 ],
 "metadata": {
  "kernelspec": {
   "display_name": "Python 3 (ipykernel)",
   "language": "python",
   "name": "python3"
  },
  "language_info": {
   "codemirror_mode": {
    "name": "ipython",
    "version": 3
   },
   "file_extension": ".py",
   "mimetype": "text/x-python",
   "name": "python",
   "nbconvert_exporter": "python",
   "pygments_lexer": "ipython3",
   "version": "3.8.16"
  }
 },
 "nbformat": 4,
 "nbformat_minor": 5
}
