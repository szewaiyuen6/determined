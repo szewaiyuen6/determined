{
 "cells": [
  {
   "cell_type": "code",
   "execution_count": 7,
   "id": "f8bc26ae-cc7c-4cc1-99ce-47f67ded3d41",
   "metadata": {},
   "outputs": [
    {
     "name": "stdout",
     "output_type": "stream",
     "text": [
      "Preparing files to send to master... 21.0KB and 10 files\n",
      "Created experiment 248\n"
     ]
    }
   ],
   "source": [
    "!det e create det-expconfig.yaml ."
   ]
  }
 ],
 "metadata": {
  "kernelspec": {
   "display_name": "Python 3 (ipykernel)",
   "language": "python",
   "name": "python3"
  },
  "language_info": {
   "codemirror_mode": {
    "name": "ipython",
    "version": 3
   },
   "file_extension": ".py",
   "mimetype": "text/x-python",
   "name": "python",
   "nbconvert_exporter": "python",
   "pygments_lexer": "ipython3",
   "version": "3.8.16"
  }
 },
 "nbformat": 4,
 "nbformat_minor": 5
}
